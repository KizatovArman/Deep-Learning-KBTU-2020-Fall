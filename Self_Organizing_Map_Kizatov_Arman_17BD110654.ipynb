{
  "nbformat": 4,
  "nbformat_minor": 0,
  "metadata": {
    "colab": {
      "name": "Self Organizing Map Kizatov Arman 17BD110654.ipynb",
      "provenance": []
    },
    "kernelspec": {
      "name": "python3",
      "display_name": "Python 3"
    }
  },
  "cells": [
    {
      "cell_type": "code",
      "metadata": {
        "id": "oCjYzJimYyM-"
      },
      "source": [
        "! pip install -q kaggle"
      ],
      "execution_count": 21,
      "outputs": []
    },
    {
      "cell_type": "code",
      "metadata": {
        "colab": {
          "resources": {
            "http://localhost:8080/nbextensions/google.colab/files.js": {
              "data": "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",
              "ok": true,
              "headers": [
                [
                  "content-type",
                  "application/javascript"
                ]
              ],
              "status": 200,
              "status_text": ""
            }
          },
          "base_uri": "https://localhost:8080/",
          "height": 90
        },
        "id": "RtOjOVVFY4XD",
        "outputId": "bc5b27c0-aaee-4c26-b98a-7747d4ee582d"
      },
      "source": [
        "from google.colab import files\n",
        "files.upload()"
      ],
      "execution_count": 22,
      "outputs": [
        {
          "output_type": "display_data",
          "data": {
            "text/html": [
              "\n",
              "     <input type=\"file\" id=\"files-b1342223-2df2-4a9e-bc43-9d47d4921218\" name=\"files[]\" multiple disabled\n",
              "        style=\"border:none\" />\n",
              "     <output id=\"result-b1342223-2df2-4a9e-bc43-9d47d4921218\">\n",
              "      Upload widget is only available when the cell has been executed in the\n",
              "      current browser session. Please rerun this cell to enable.\n",
              "      </output>\n",
              "      <script src=\"/nbextensions/google.colab/files.js\"></script> "
            ],
            "text/plain": [
              "<IPython.core.display.HTML object>"
            ]
          },
          "metadata": {
            "tags": []
          }
        },
        {
          "output_type": "stream",
          "text": [
            "Saving kaggle.json to kaggle.json\n"
          ],
          "name": "stdout"
        },
        {
          "output_type": "execute_result",
          "data": {
            "text/plain": [
              "{'kaggle.json': b'{\"username\":\"armankizatov\",\"key\":\"9ec6bd9c97096b18d00bb9fbb00805a0\"}'}"
            ]
          },
          "metadata": {
            "tags": []
          },
          "execution_count": 22
        }
      ]
    },
    {
      "cell_type": "code",
      "metadata": {
        "id": "iIGgIWDfZDd-"
      },
      "source": [
        "! mkdir ~/.kaggle\n",
        "! cp kaggle.json ~/.kaggle/"
      ],
      "execution_count": 23,
      "outputs": []
    },
    {
      "cell_type": "code",
      "metadata": {
        "id": "SCqBE6GGZFpK"
      },
      "source": [
        "! chmod 600 ~/.kaggle/kaggle.json"
      ],
      "execution_count": 24,
      "outputs": []
    },
    {
      "cell_type": "code",
      "metadata": {
        "colab": {
          "base_uri": "https://localhost:8080/"
        },
        "id": "3ELBWnY6ZQxr",
        "outputId": "ae82bfac-e1b0-4d86-857e-ff434ad58f2c"
      },
      "source": [
        "! kaggle datasets download -d uciml/iris"
      ],
      "execution_count": 25,
      "outputs": [
        {
          "output_type": "stream",
          "text": [
            "Downloading iris.zip to /content\n",
            "\r  0% 0.00/3.60k [00:00<?, ?B/s]\n",
            "\r100% 3.60k/3.60k [00:00<00:00, 3.09MB/s]\n"
          ],
          "name": "stdout"
        }
      ]
    },
    {
      "cell_type": "code",
      "metadata": {
        "colab": {
          "base_uri": "https://localhost:8080/"
        },
        "id": "kbDLrkMBaC5g",
        "outputId": "cb6dcd9c-6102-4461-ec9a-0b74eaa9b47a"
      },
      "source": [
        "! unzip iris.zip"
      ],
      "execution_count": 27,
      "outputs": [
        {
          "output_type": "stream",
          "text": [
            "Archive:  iris.zip\n",
            "replace Iris.csv? [y]es, [n]o, [A]ll, [N]one, [r]ename: A\n",
            "  inflating: Iris.csv                \n",
            "  inflating: database.sqlite         \n"
          ],
          "name": "stdout"
        }
      ]
    },
    {
      "cell_type": "code",
      "metadata": {
        "id": "fr1SA4CDbDs9"
      },
      "source": [
        "import numpy as np\n",
        "import pandas as pd\n",
        "import matplotlib.pyplot as plt\n",
        "import seaborn as sns\n",
        "\n",
        "#ignore warning messages \n",
        "import warnings\n",
        "warnings.filterwarnings('ignore') \n",
        "\n",
        "# set seaborn\n",
        "sns.set()"
      ],
      "execution_count": 28,
      "outputs": []
    },
    {
      "cell_type": "code",
      "metadata": {
        "colab": {
          "base_uri": "https://localhost:8080/"
        },
        "id": "ilIAnUJGtRZK",
        "outputId": "715346a4-6138-48c1-d663-fc8b9a6f1404"
      },
      "source": [
        "iris_csv_path = \"/content/Iris.csv\"\n",
        "\n",
        "iris = pd.read_csv(iris_csv_path)\n",
        "\n",
        "iris.head"
      ],
      "execution_count": 30,
      "outputs": [
        {
          "output_type": "execute_result",
          "data": {
            "text/plain": [
              "<bound method NDFrame.head of       Id  SepalLengthCm  ...  PetalWidthCm         Species\n",
              "0      1            5.1  ...           0.2     Iris-setosa\n",
              "1      2            4.9  ...           0.2     Iris-setosa\n",
              "2      3            4.7  ...           0.2     Iris-setosa\n",
              "3      4            4.6  ...           0.2     Iris-setosa\n",
              "4      5            5.0  ...           0.2     Iris-setosa\n",
              "..   ...            ...  ...           ...             ...\n",
              "145  146            6.7  ...           2.3  Iris-virginica\n",
              "146  147            6.3  ...           1.9  Iris-virginica\n",
              "147  148            6.5  ...           2.0  Iris-virginica\n",
              "148  149            6.2  ...           2.3  Iris-virginica\n",
              "149  150            5.9  ...           1.8  Iris-virginica\n",
              "\n",
              "[150 rows x 6 columns]>"
            ]
          },
          "metadata": {
            "tags": []
          },
          "execution_count": 30
        }
      ]
    },
    {
      "cell_type": "code",
      "metadata": {
        "colab": {
          "base_uri": "https://localhost:8080/",
          "height": 204
        },
        "id": "PKZWMOE3bcxg",
        "outputId": "767f85be-13e0-4a89-de41-7d1aa389b5d1"
      },
      "source": [
        "dataset = iris.drop(['Species','Id'],axis = 1)\n",
        "dataset.head()"
      ],
      "execution_count": 31,
      "outputs": [
        {
          "output_type": "execute_result",
          "data": {
            "text/html": [
              "<div>\n",
              "<style scoped>\n",
              "    .dataframe tbody tr th:only-of-type {\n",
              "        vertical-align: middle;\n",
              "    }\n",
              "\n",
              "    .dataframe tbody tr th {\n",
              "        vertical-align: top;\n",
              "    }\n",
              "\n",
              "    .dataframe thead th {\n",
              "        text-align: right;\n",
              "    }\n",
              "</style>\n",
              "<table border=\"1\" class=\"dataframe\">\n",
              "  <thead>\n",
              "    <tr style=\"text-align: right;\">\n",
              "      <th></th>\n",
              "      <th>SepalLengthCm</th>\n",
              "      <th>SepalWidthCm</th>\n",
              "      <th>PetalLengthCm</th>\n",
              "      <th>PetalWidthCm</th>\n",
              "    </tr>\n",
              "  </thead>\n",
              "  <tbody>\n",
              "    <tr>\n",
              "      <th>0</th>\n",
              "      <td>5.1</td>\n",
              "      <td>3.5</td>\n",
              "      <td>1.4</td>\n",
              "      <td>0.2</td>\n",
              "    </tr>\n",
              "    <tr>\n",
              "      <th>1</th>\n",
              "      <td>4.9</td>\n",
              "      <td>3.0</td>\n",
              "      <td>1.4</td>\n",
              "      <td>0.2</td>\n",
              "    </tr>\n",
              "    <tr>\n",
              "      <th>2</th>\n",
              "      <td>4.7</td>\n",
              "      <td>3.2</td>\n",
              "      <td>1.3</td>\n",
              "      <td>0.2</td>\n",
              "    </tr>\n",
              "    <tr>\n",
              "      <th>3</th>\n",
              "      <td>4.6</td>\n",
              "      <td>3.1</td>\n",
              "      <td>1.5</td>\n",
              "      <td>0.2</td>\n",
              "    </tr>\n",
              "    <tr>\n",
              "      <th>4</th>\n",
              "      <td>5.0</td>\n",
              "      <td>3.6</td>\n",
              "      <td>1.4</td>\n",
              "      <td>0.2</td>\n",
              "    </tr>\n",
              "  </tbody>\n",
              "</table>\n",
              "</div>"
            ],
            "text/plain": [
              "   SepalLengthCm  SepalWidthCm  PetalLengthCm  PetalWidthCm\n",
              "0            5.1           3.5            1.4           0.2\n",
              "1            4.9           3.0            1.4           0.2\n",
              "2            4.7           3.2            1.3           0.2\n",
              "3            4.6           3.1            1.5           0.2\n",
              "4            5.0           3.6            1.4           0.2"
            ]
          },
          "metadata": {
            "tags": []
          },
          "execution_count": 31
        }
      ]
    },
    {
      "cell_type": "code",
      "metadata": {
        "colab": {
          "base_uri": "https://localhost:8080/",
          "height": 204
        },
        "id": "WFnuehoQbkBe",
        "outputId": "eecb3f1f-b562-4600-9af1-0c7fde3bdad8"
      },
      "source": [
        "from sklearn.preprocessing import StandardScaler\n",
        "\n",
        "standard = StandardScaler()\n",
        "cleanDataSet = pd.DataFrame(standard.fit_transform(dataset))\n",
        "cleanDataSet.head()"
      ],
      "execution_count": 32,
      "outputs": [
        {
          "output_type": "execute_result",
          "data": {
            "text/html": [
              "<div>\n",
              "<style scoped>\n",
              "    .dataframe tbody tr th:only-of-type {\n",
              "        vertical-align: middle;\n",
              "    }\n",
              "\n",
              "    .dataframe tbody tr th {\n",
              "        vertical-align: top;\n",
              "    }\n",
              "\n",
              "    .dataframe thead th {\n",
              "        text-align: right;\n",
              "    }\n",
              "</style>\n",
              "<table border=\"1\" class=\"dataframe\">\n",
              "  <thead>\n",
              "    <tr style=\"text-align: right;\">\n",
              "      <th></th>\n",
              "      <th>0</th>\n",
              "      <th>1</th>\n",
              "      <th>2</th>\n",
              "      <th>3</th>\n",
              "    </tr>\n",
              "  </thead>\n",
              "  <tbody>\n",
              "    <tr>\n",
              "      <th>0</th>\n",
              "      <td>-0.900681</td>\n",
              "      <td>1.032057</td>\n",
              "      <td>-1.341272</td>\n",
              "      <td>-1.312977</td>\n",
              "    </tr>\n",
              "    <tr>\n",
              "      <th>1</th>\n",
              "      <td>-1.143017</td>\n",
              "      <td>-0.124958</td>\n",
              "      <td>-1.341272</td>\n",
              "      <td>-1.312977</td>\n",
              "    </tr>\n",
              "    <tr>\n",
              "      <th>2</th>\n",
              "      <td>-1.385353</td>\n",
              "      <td>0.337848</td>\n",
              "      <td>-1.398138</td>\n",
              "      <td>-1.312977</td>\n",
              "    </tr>\n",
              "    <tr>\n",
              "      <th>3</th>\n",
              "      <td>-1.506521</td>\n",
              "      <td>0.106445</td>\n",
              "      <td>-1.284407</td>\n",
              "      <td>-1.312977</td>\n",
              "    </tr>\n",
              "    <tr>\n",
              "      <th>4</th>\n",
              "      <td>-1.021849</td>\n",
              "      <td>1.263460</td>\n",
              "      <td>-1.341272</td>\n",
              "      <td>-1.312977</td>\n",
              "    </tr>\n",
              "  </tbody>\n",
              "</table>\n",
              "</div>"
            ],
            "text/plain": [
              "          0         1         2         3\n",
              "0 -0.900681  1.032057 -1.341272 -1.312977\n",
              "1 -1.143017 -0.124958 -1.341272 -1.312977\n",
              "2 -1.385353  0.337848 -1.398138 -1.312977\n",
              "3 -1.506521  0.106445 -1.284407 -1.312977\n",
              "4 -1.021849  1.263460 -1.341272 -1.312977"
            ]
          },
          "metadata": {
            "tags": []
          },
          "execution_count": 32
        }
      ]
    },
    {
      "cell_type": "code",
      "metadata": {
        "id": "IqYjmZ4EagGE"
      },
      "source": [
        "from math import sqrt\n",
        "import numpy as np\n",
        "from collections import defaultdict, Counter\n",
        "from numpy import (array, unravel_index, nditer, linalg, random, subtract, max,\n",
        "                   power, exp, pi, zeros, ones, arange, outer, meshgrid, dot,\n",
        "                   logical_and, mean, std, cov, argsort, linspace, transpose,\n",
        "                   einsum, prod, nan, sqrt, hstack, diff, argmin, multiply)\n",
        "\n",
        "\n",
        "def _build_iteration_indexes(data_len, num_iterations,\n",
        "                             verbose=False, random_generator=None):\n",
        "    \"\"\"Returns an iterable with the indexes of the samples\n",
        "    to pick at each iteration of the training.\n",
        "    If random_generator is not None, it must be an instalce\n",
        "    of numpy.random.RandomState and it will be used\n",
        "    to randomize the order of the samples.\"\"\"\n",
        "    iterations = arange(num_iterations) % data_len\n",
        "    if random_generator:\n",
        "        random_generator.shuffle(iterations)\n",
        "    if verbose:\n",
        "        return _wrap_index__in_verbose(iterations)\n",
        "    else:\n",
        "        return iterations\n",
        "\n",
        "def fast_norm(x):\n",
        "  return sqrt(dot(x, x.T))\n",
        "\n",
        "\n",
        "def asymptotic_decay(learning_rate, t, max_iter):\n",
        "  return learning_rate / (1+t/(max_iter/2))\n",
        "\n",
        "\n",
        "class Som(object):\n",
        "\n",
        "  def __init__(self, x, y, input_len, sigma=1.0, learning_rate=0.5,\n",
        "               decay_function=asymptotic_decay, neighborhood_function='gaussian',\n",
        "               topology='rectangular', activation_distance='euclidean', \n",
        "               random_seed=None):\n",
        "    if sigma >= x or sigma >= y:\n",
        "      print(\"Sigma is too big for dimension of map.\")\n",
        "    \n",
        "    self._random_generator = np.random.RandomState(random_seed)\n",
        "\n",
        "    self._learning_rate = learning_rate\n",
        "    self._sigma = sigma\n",
        "    self._input_len = input_len\n",
        "\n",
        "    self._weights = self._random_generator.rand(x, y, input_len)*2-1\n",
        "    self._weights /= np.linalg.norm(self._weights, axis=-1, keepdims=True)\n",
        "\n",
        "    self._activaton_map = np.zeros((x,y))\n",
        "    self._neigx = np.arange(x)\n",
        "    self._neigy = np.arange(y)\n",
        "\n",
        "\n",
        "    self.topology = topology\n",
        "    self._xx, self._yy = np.meshgrid(self._neigx, self._neigy)\n",
        "    self._xx = self._xx.astype(float)\n",
        "    self._yy = self._yy.astype(float)\n",
        "\n",
        "    self._decay_function = decay_function\n",
        "\n",
        "    neig_functions = {'gaussian': self._gaussian}\n",
        "    \n",
        "    self.neighborhood = neig_functions[neighborhood_function]\n",
        "\n",
        "    distance_functions = {'euclidean': self._euclidean_distance}\n",
        "\n",
        "    self._activation_distance = distance_functions[activation_distance]\n",
        "\n",
        "  \n",
        "  def get_weights(self):\n",
        "    return self._weights\n",
        "\n",
        "  def get_euclidean_coordinates(self):\n",
        "    return self._xx.T, self._yy.T\n",
        "\n",
        "  def convert_map_to_euclidean(self, xy):\n",
        "    return self._xx.T[xy], self._yy.T[xy]\n",
        "\n",
        "  def _activate(self, x):\n",
        "    self._activation_map = self._activation_distance(x, self._weights)\n",
        "\n",
        "  def activate(self, x):\n",
        "    self._activate(x)\n",
        "    return self._activaton_map\n",
        "\n",
        "  def _gaussian(self, c, sigma):\n",
        "    d = 2*(np.pi)*sigma*sigma\n",
        "    ax = exp(-power(self._xx-self._xx.T[c], 2)/d)\n",
        "    ay = exp(-power(self._yy-self._yy.T[c], 2)/d)\n",
        "    return (ax*ay).T\n",
        "  \n",
        "  def _euclidean_distance(self, x, w):\n",
        "    return np.linalg.norm(np.subtract(x,w), axis=-1)\n",
        "\n",
        "  def winner(self, x):\n",
        "    self._activate(x)\n",
        "    return np.unravel_index(self._activation_map.argmin(),\n",
        "                            self._activation_map.shape)\n",
        "    \n",
        "  def update(self, x, win, t, max_iteration):\n",
        "    eta = self._decay_function(self._learning_rate, t, max_iteration)\n",
        "    sig = self._decay_function(self._sigma, t, max_iteration)\n",
        "    g = self.neighborhood(win, sig)*eta\n",
        "    self._weights += einsum('ij, ijk->ijk', g, x-self._weights)\n",
        "\n",
        "  def quantization(self, data):\n",
        "    winners_coords = argmin(self._distance_from_weights(data), axis=1)\n",
        "    return self._weights[unravel_index(winners_coords, self._weights.shape[:2])]\n",
        "\n",
        "  def random_weights_init(self, data):\n",
        "    it = nditer(self._activation_map, flags=['multi_index'])\n",
        "    while not it.finished:\n",
        "      rand_i = self._random_generator.randin(len(data))\n",
        "      self._weights[it.multi_index] = data[rand_i]\n",
        "      it.iternext()\n",
        "\n",
        "  def train(self, data, num_iteration, random_order=False, verbose=False):\n",
        "    random_generator=None\n",
        "    if random_order:\n",
        "      random_generator = self._random_generator\n",
        "    iterations = _build_iteration_indexes(len(data), num_iteration,\n",
        "                                          verbose, random_generator)\n",
        "    \n",
        "    for t, iteration in enumerate(iterations):\n",
        "      self.update(data[iteration], self.winner(data[iteration]),\n",
        "                  t, num_iteration)\n",
        "\n",
        "  def train_random(self, data, num_iteration, verbose=False):\n",
        "    self.train(data, num_iteration, random_order=True, verbose=verbose)\n",
        "\n",
        "  def train_batch(self, data, num_iteration, verbose=False):\n",
        "    self.train(data, num_iteration, random_order=False, verbose=verbose)\n",
        "\n",
        "  def distance_map(self):\n",
        "    um = zeros((self._weights.shape[0],\n",
        "                self._weights.shape[1],\n",
        "                8))\n",
        "    ii = [[0, -1, -1, -1, 0, 1, 1, 1]]*2 \n",
        "    jj = [[-1, -1, 0, 1, 1, 1, 0, -1]]*2\n",
        "\n",
        "    if self.topology == 'hexagonal':\n",
        "      ii = [[1, 1, 1, 0, -1, 0], [0, 1, 0, -1, -1, -1]]\n",
        "      jj = [[1, 0, -1, -1, 0, 1], [1, 0, -1, -1, 0, 1]]\n",
        "\n",
        "    for x in range(self._weights.shape[0]):\n",
        "      for y in range(self._weights.shape[1]):\n",
        "        w_2 = self._weights[x,y]\n",
        "        e = y%2 == 0\n",
        "        for k, (i, j) in enumerate(zip(ii[e], jj[e])):\n",
        "          if (x+i >= 0 and x+i < self._weights.shape[0] and \n",
        "                y+j >= 0 and y+j < self._weights.shape[1]):\n",
        "              w_1 = self._weights[x+i, y+j]\n",
        "              um[x, y, k] = fast_norm(w_2 - w_1)\n",
        "    um = um.sum(axis=2)\n",
        "    return um/um.max()\n",
        "\n",
        "  def activation_response(self, data):\n",
        "    a = zeros((self._weights.shape[0], self._weights.shape[1]))\n",
        "    for x in data:\n",
        "      a[self.winner(x)] += 1\n",
        "    return a\n",
        "\n",
        "  def _distance_from_weights(self, data):   \n",
        "    input_data = array(data)\n",
        "    weights_flat = self._weights.reshape(-1, self._weights.shape[2])\n",
        "    input_data_sq = power(input_data, 2).sum(axis=1, keepdims=True)\n",
        "    weights_flat_sq = power(weights_flat, 2).sum(axis=1, keepdims=True)\n",
        "    cross_term = dot(input_data, weights_flat.T)\n",
        "    return sqrt(-2 * cross_term + input_data_sq + weights_flat_sq.T)\n",
        "\n",
        "  def win_map(self, data, return_indices=False):\n",
        "    winmap = defaultdict(list)\n",
        "    for i, x in enumerate(data):\n",
        "        winmap[self.winner(x)].append(i if return_indices else x)\n",
        "    return winmap\n",
        "\n",
        "  def labels_map(self, data, labels):\n",
        "    winmap = defaultdict(list)\n",
        "    for x, l in zip(data, labels):\n",
        "        winmap[self.winner(x)].append(l)\n",
        "    for position in winmap:\n",
        "        winmap[position] = Counter(winmap[position])\n",
        "    return winmap\n",
        "         "
      ],
      "execution_count": 40,
      "outputs": []
    },
    {
      "cell_type": "code",
      "metadata": {
        "id": "LuJRuZK9qRVZ"
      },
      "source": [
        "som = Som(7, 7, 4, sigma=0.25, neighborhood_function='gaussian')\n",
        "som.train_random(cleanDataSet.to_numpy(), 30000)"
      ],
      "execution_count": 41,
      "outputs": []
    },
    {
      "cell_type": "code",
      "metadata": {
        "id": "iMIBEQmwc8SQ"
      },
      "source": [
        "from matplotlib.gridspec import GridSpec"
      ],
      "execution_count": 43,
      "outputs": []
    },
    {
      "cell_type": "code",
      "metadata": {
        "colab": {
          "base_uri": "https://localhost:8080/",
          "height": 411
        },
        "id": "rJR5WSG4YxUI",
        "outputId": "207a2eb2-37cb-4d1f-eaec-dc233b9f49a3"
      },
      "source": [
        "target = iris.Species.astype('category').cat.codes\n",
        "labels_map = som.labels_map(cleanDataSet.to_numpy(), target)\n",
        "label_names = np.unique(target)\n",
        "\n",
        "plt.figure(figsize=(7, 7))\n",
        "the_grid = GridSpec(7, 7)\n",
        "\n",
        "for position in labels_map.keys():\n",
        "    label_fracs = [labels_map[position][l] for l in label_names]\n",
        "    plt.subplot(the_grid[6-position[1], position[0]], aspect=1)\n",
        "    patches, texts = plt.pie(label_fracs)\n",
        "plt.legend(patches, label_names, bbox_to_anchor=(0, 1.5), ncol=3)\n",
        "\n",
        "plt.show()"
      ],
      "execution_count": 44,
      "outputs": [
        {
          "output_type": "display_data",
          "data": {
            "image/png": "[encoded data removed]",
            "text/plain": [
              "<Figure size 504x504 with 44 Axes>"
            ]
          },
          "metadata": {
            "tags": []
          }
        }
      ]
    },
    {
      "cell_type": "code",
      "metadata": {
        "colab": {
          "base_uri": "https://localhost:8080/",
          "height": 435
        },
        "id": "5tUC8Dnqu7HU",
        "outputId": "0972cfee-9ea2-482e-9c18-3c9d1de488f6"
      },
      "source": [
        "plt.figure(figsize=(7, 7))\n",
        "frequencies = np.zeros((7, 7))\n",
        "for position, values in som.win_map(cleanDataSet.to_numpy()).items():\n",
        "    frequencies[position[0], position[1]] = len(values)\n",
        "plt.pcolor(frequencies, cmap='Blues')\n",
        "plt.colorbar()\n",
        "plt.show()"
      ],
      "execution_count": 45,
      "outputs": [
        {
          "output_type": "display_data",
          "data": {
            "image/png": "[encoded data removed]",
            "text/plain": [
              "<Figure size 504x504 with 2 Axes>"
            ]
          },
          "metadata": {
            "tags": []
          }
        }
      ]
    },
    {
      "cell_type": "markdown",
      "metadata": {
        "id": "QRGtkN_bdLSY"
      },
      "source": [
        "Source: https://github.com/cgorman/tensorflow-som/blob/tfv2/tf_som.py"
      ]
    }
  ]
}